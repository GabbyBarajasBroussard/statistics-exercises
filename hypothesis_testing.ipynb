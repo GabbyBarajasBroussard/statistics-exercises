{
 "cells": [
  {
   "cell_type": "markdown",
   "metadata": {},
   "source": [
    "# Do your work for this exercise in a jupyter notebook named hypothesis_testing.ipynb."
   ]
  },
  {
   "cell_type": "markdown",
   "metadata": {},
   "source": [
    "## For each of the following questions, formulate a null and alternative hypothesis (be as specific as you can be), then give an example of what a true positive, true negative, type I and type II errors would look like. Note that some of the questions are intentionally phrased in a vague way. It is your job to reword these as more precise questions that could be tested."
   ]
  },
  {
   "cell_type": "markdown",
   "metadata": {},
   "source": [
    "### Has the network latency gone up since we switched internet service providers?"
   ]
  },
  {
   "cell_type": "markdown",
   "metadata": {},
   "source": [
    "$$H0$$: Network latency has not been affected since switching internet service providers.\n",
    "$$Ha$$: Network latency has gone down since switching internet service providers\n",
    "<ul> \n",
    "    <li> <b>True Positive:</b> Network latency has increased since switching internet service providers.\n",
    "    <li><b>True Negative: </b>Network latency has decreased since switching internet service providers.\n",
    "<li><b>Type I: </b>The network latency appears decreased but it has actually increased since switching internet providers.\n",
    "<li><b>Type II:</b> The network latency has decreased since switching internet providers but we tested latency on an unusually fast day."
   ]
  },
  {
   "cell_type": "markdown",
   "metadata": {},
   "source": [
    "### Is the website redesign any good?"
   ]
  },
  {
   "cell_type": "markdown",
   "metadata": {},
   "source": [
    "$$H0$$: Users have reported no change in usability since redsigning the website.\n",
    "$$Ha$$: Users have reported a decrease in usability since redsigning the website.\n",
    "<ul> \n",
    "    <li> <b>True Positive:</b> Users have reported a increase in usability since redesigning the website.\n",
    "    <li><b>True Negative: </b>N Users have reported a decrease in usability since redesigning the website.\n",
    "<li><b>Type I: </b>The users report a decrease in usability but there has been no change is usability.\n",
    "<li><b>Type II:</b> The users report an increase in usability but the calls for tech support have increased since the website redesign."
   ]
  },
  {
   "cell_type": "markdown",
   "metadata": {},
   "source": [
    "### Is our television ad driving more sales?"
   ]
  },
  {
   "cell_type": "markdown",
   "metadata": {},
   "source": [
    "$$H0$$: Sales have not been affected since the new ad aired.\n",
    "$$Ha$$: Sales have gone down since the new ad aired.\n",
    "<ul> \n",
    "    <li> <b>True Positive:</b> Sales have increased since airing the new ad.\n",
    "    <li><b>True Negative: </b> Sales have decreased since airing the new ad.\n",
    "<li><b>Type I: </b>The ad sales went up for one day but the overall weekly sales trend has decreased.\n",
    "<li><b>Type II:</b> The ad sales went down for one day but the overall weekly sales trend has increased."
   ]
  }
 ],
 "metadata": {
  "kernelspec": {
   "display_name": "Python 3",
   "language": "python",
   "name": "python3"
  },
  "language_info": {
   "codemirror_mode": {
    "name": "ipython",
    "version": 3
   },
   "file_extension": ".py",
   "mimetype": "text/x-python",
   "name": "python",
   "nbconvert_exporter": "python",
   "pygments_lexer": "ipython3",
   "version": "3.7.6"
  }
 },
 "nbformat": 4,
 "nbformat_minor": 4
}
