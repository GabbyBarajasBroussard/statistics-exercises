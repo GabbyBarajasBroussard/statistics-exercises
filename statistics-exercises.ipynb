{
 "cells": [
  {
   "cell_type": "code",
   "execution_count": 11,
   "metadata": {},
   "outputs": [],
   "source": [
    "%matplotlib inline\n",
    "import numpy as np\n",
    "import pandas as pd\n",
    "\n",
    "\n",
    "\n",
    "np.random.seed(123)"
   ]
  },
  {
   "cell_type": "markdown",
   "metadata": {},
   "source": [
    "## 1. How likely is it that you roll doubles when rolling two dice?"
   ]
  },
  {
   "cell_type": "code",
   "execution_count": 12,
   "metadata": {},
   "outputs": [
    {
     "name": "stdout",
     "output_type": "stream",
     "text": [
      "The probability of rolling doubles when you roll two die is 0.16497\n"
     ]
    }
   ],
   "source": [
    "# the number of times to run the same simulation.\n",
    "number_of_simulations = nrows = 10**5\n",
    "#how many dice rolls in each simulation\n",
    "number_of_dice_rolled = ncols = 2\n",
    "\n",
    "#each side of a dice\n",
    "choice = [1,2,3,4,5,6]\n",
    "#picks random options from the 'dice' amoun of times specified, \n",
    "#reshapes the output in rows and columns based on our amount of simulations and rolls per trial\n",
    "rolls = np.random.choice(choice, nrows * ncols).reshape(nrows, ncols)\n",
    "\n",
    "#convertsthe rolls to dataframe\n",
    "rolls_df = pd.DataFrame(rolls)\n",
    "\n",
    "#applies a function to check if the two dice rolls match, and takes the average of times this occurs\n",
    "prob = rolls_df.apply(lambda row: row[0] == row[1], axis=1).mean()\n",
    "print(\"The probability of rolling doubles when you roll two die is\", prob)"
   ]
  },
  {
   "cell_type": "markdown",
   "metadata": {},
   "source": [
    "## 2. If you flip 8 coins, what is the probability of getting exactly 3 heads? What is the probability of getting more than 3 heads?"
   ]
  },
  {
   "cell_type": "code",
   "execution_count": 17,
   "metadata": {},
   "outputs": [
    {
     "name": "stdout",
     "output_type": "stream",
     "text": [
      "The probability of rolling exactly 3 heads is 0.221\n"
     ]
    }
   ],
   "source": [
    "number_trials = nrows = 10000\n",
    "number_coins = ncols = 8\n",
    "\n",
    "flips = np.random.choice([1, 0], nrows * ncols).reshape(nrows, ncols)\n",
    "#now add the row total\n",
    "trial = flips.sum(axis=1)\n",
    "# then get the average of those where the sum is 3\n",
    "three_heads=(trial==3).mean()\n",
    "print(\"The probability of rolling exactly 3 heads is\", three_heads)"
   ]
  },
  {
   "cell_type": "code",
   "execution_count": 18,
   "metadata": {},
   "outputs": [
    {
     "name": "stdout",
     "output_type": "stream",
     "text": [
      "The probability of rolling more than 3 heads is 0.6305\n"
     ]
    }
   ],
   "source": [
    "greater_than_three=(trial> 3).mean()\n",
    "print(\"The probability of rolling more than 3 heads is\", greater_than_three)"
   ]
  },
  {
   "cell_type": "markdown",
   "metadata": {},
   "source": [
    "## 3. There are approximitely 3 web development cohorts for every 1 data science cohort at Codeup. Assuming that Codeup randomly selects an alumni to put on a billboard, what are the odds that the two billboards I drive past both have data science students on them?"
   ]
  },
  {
   "cell_type": "code",
   "execution_count": 21,
   "metadata": {},
   "outputs": [
    {
     "name": "stdout",
     "output_type": "stream",
     "text": [
      "The probability of driving by two Codeup Data Science Students is 0.06466849000000001\n"
     ]
    }
   ],
   "source": [
    "prob= [.75, .25]\n",
    "billboard = np.random.choice([\"WD\", \"DS\"], size=10000, p=prob)\n",
    "data = (billboard == \"DS\").mean()\n",
    "total_ds=data**2\n",
    "print(\"The probability of driving by two Codeup Data Science Students is\", total_ds)"
   ]
  },
  {
   "cell_type": "markdown",
   "metadata": {},
   "source": [
    "## 4. Codeup students buy, on average, 3 poptart packages (+- 1.5) a day from the snack vending machine. If on monday the machine is restocked with 17 poptart packages, how likely is it that I will be able to buy some poptarts on Friday afternoon?"
   ]
  },
  {
   "cell_type": "code",
   "execution_count": 28,
   "metadata": {},
   "outputs": [
    {
     "name": "stdout",
     "output_type": "stream",
     "text": [
      "The probability of being able to buy some poptarts Friday afternoon is 0.5982\n"
     ]
    }
   ],
   "source": [
    "poptarts_per_week = np.random.randint(low=8, high=23, size=10000)\n",
    "\n",
    "poptarts_left = 17 - poptarts_per_week\n",
    "friyay=(poptarts_left>=1).mean()\n",
    "print(\"The probability of being able to buy some poptarts Friday afternoon is\", friyay)"
   ]
  },
  {
   "cell_type": "markdown",
   "metadata": {},
   "source": [
    "## 5. Compare Heights\n",
    "<ul>\n",
    "<li>Men have an average height of 178 cm and standard deviation of 8cm.\n",
    "<li>Women have a mean of 170, sd = 6cm.\n",
    "<li>If a man and woman are chosen at random, P(woman taller than man)?"
   ]
  },
  {
   "cell_type": "code",
   "execution_count": 29,
   "metadata": {},
   "outputs": [
    {
     "name": "stdout",
     "output_type": "stream",
     "text": [
      "The probability of a woman being taller than a man is 0.2121\n"
     ]
    }
   ],
   "source": [
    "# make a sample of 10000 men and 10000 women with heights within 1 stdev of mean\n",
    "men = np.random.normal(loc=178, scale=8, size=10000)\n",
    "women = np.random.normal(loc=170, scale=6, size=10000)\n",
    "\n",
    "# subtract men - women, if result is negative then the woman is taller\n",
    "tallest = men - women\n",
    "\n",
    "# find average where tallest is negative\n",
    "men_or_women=(tallest<0).mean()\n",
    "print(\"The probability of a woman being taller than a man is\", men_or_women )"
   ]
  },
  {
   "cell_type": "markdown",
   "metadata": {},
   "source": [
    "## 6. When installing anaconda on a student's computer, there's a 1 in 250 chance that the download is corrupted and the installation fails. "
   ]
  },
  {
   "cell_type": "markdown",
   "metadata": {},
   "source": [
    "### What are the odds that after having 50 students download anaconda, no one has an installation issue? "
   ]
  },
  {
   "cell_type": "code",
   "execution_count": 38,
   "metadata": {},
   "outputs": [
    {
     "name": "stdout",
     "output_type": "stream",
     "text": [
      "The probability that no one has an installation issue with 50 students is 0.8180000000000001\n"
     ]
    }
   ],
   "source": [
    "# 1/250 chance of corruption to percent success and percent fail\n",
    "probabilities = [.996, .004]\n",
    "# generate 10,000 trails in sets of 50 students\n",
    "installer = np.random.choice([\"Install\", \"Corruption\"], size=(10000, 50), p=probabilities)\n",
    "# find average where fail in the set of 50\n",
    "# convert to df to apply lambda to look for corruption in set\n",
    "installed = pd.DataFrame(installer)\n",
    "# apply lambda function and average row where corruption present subtract % corruption from 1 to get % all insta;;\n",
    "all_install = 1 - (installed.apply(lambda row: \"Corruption\" in row.values, axis=1).mean())\n",
    "print(\"The probability that no one has an installation issue with 50 students is\", all_install)"
   ]
  },
  {
   "cell_type": "markdown",
   "metadata": {},
   "source": [
    "### 100 students?"
   ]
  },
  {
   "cell_type": "code",
   "execution_count": 37,
   "metadata": {},
   "outputs": [
    {
     "name": "stdout",
     "output_type": "stream",
     "text": [
      "The probability that no one has an installation issue with 100 students is 0.6656\n"
     ]
    }
   ],
   "source": [
    "# generate 10,000 trails in sets of 100 students\n",
    "installer = np.random.choice([\"Install\", \"Corruption\"], size=(10000, 100), p=probabilities)\n",
    "# find average where corruption in the set of 100\n",
    "# convert to df to apply lambda to look for corruption in set\n",
    "installed = pd.DataFrame(installer)\n",
    "# apply lambda function and average row where corruption present subtract % corruption  from 1 to get % all install\n",
    "all_install = 1 - (installed.apply(lambda row: \"Corruption\" in row.values, axis=1).mean())\n",
    "print(\"The probability that no one has an installation issue with 100 students is\", all_install)"
   ]
  },
  {
   "cell_type": "markdown",
   "metadata": {},
   "source": [
    "### What is the probability that we observe an installation issue within the first 150 students that download anaconda?"
   ]
  },
  {
   "cell_type": "code",
   "execution_count": 41,
   "metadata": {},
   "outputs": [
    {
     "name": "stdout",
     "output_type": "stream",
     "text": [
      "The probability that someone has an installation issue within the first 150 students is 0.4515\n"
     ]
    }
   ],
   "source": [
    "# generate 10,000 trails in sets of 150 students\n",
    "installer = np.random.choice([\"Install\", \"Corruption\"], size=(10000, 150), p=probabilities)\n",
    "# find average where corruption in the set of 150\n",
    "# convert to df to apply lambda to look for corruption in set\n",
    "installed = pd.DataFrame(installer)\n",
    "# apply lambda function and average row where corruption  present subtract % corruption  from 1 to get % all install\n",
    "all_install =installed.apply(lambda row: \"Corruption\" in row.values, axis=1).mean()\n",
    "print(\"The probability that someone has an installation issue within the first 150 students is\", all_install)"
   ]
  },
  {
   "cell_type": "markdown",
   "metadata": {},
   "source": [
    "### How likely is it that 450 students all download anaconda without an issue?"
   ]
  },
  {
   "cell_type": "code",
   "execution_count": 43,
   "metadata": {},
   "outputs": [
    {
     "name": "stdout",
     "output_type": "stream",
     "text": [
      "The probability that no one has an installation issue with 450 students is 0.1624\n"
     ]
    }
   ],
   "source": [
    "# generate 10,000 trails in sets of 100 students\n",
    "installer = np.random.choice([\"Install\", \"Corruption\"], size=(10000, 450), p=probabilities)\n",
    "# find average where corruption in the set of 100\n",
    "# convert to df to apply lambda to look for corruption in set\n",
    "installed = pd.DataFrame(installer)\n",
    "# apply lambda function and average row where corruption present subtract % corruption  from 1 to get % all install\n",
    "all_install = 1 - (installed.apply(lambda row: \"Corruption\" in row.values, axis=1).mean())\n",
    "print(\"The probability that no one has an installation issue with 450 students is\", all_install)"
   ]
  },
  {
   "cell_type": "markdown",
   "metadata": {},
   "source": [
    "## 7. There's a 70% chance on any given day that there will be at least one food truck at Travis Park. However, you haven't seen a food truck there in 3 days. How unlikely is this?"
   ]
  },
  {
   "cell_type": "code",
   "execution_count": 44,
   "metadata": {},
   "outputs": [
    {
     "name": "stdout",
     "output_type": "stream",
     "text": [
      "The probability that you havent seen a food truck in three days is 0.02965\n"
     ]
    }
   ],
   "source": [
    "unlikely = sum(np.random.binomial(3, 0.7, 20000)==0)/20000\n",
    "print(\"The probability that you havent seen a food truck in three days is\", unlikely)"
   ]
  },
  {
   "cell_type": "markdown",
   "metadata": {},
   "source": [
    "### How likely is it that a food truck will show up sometime this week?"
   ]
  },
  {
   "cell_type": "code",
   "execution_count": 45,
   "metadata": {},
   "outputs": [
    {
     "name": "stdout",
     "output_type": "stream",
     "text": [
      "The probability that a food truck will show up sometime this week is 0.99985\n"
     ]
    }
   ],
   "source": [
    "likely = 1-(sum(np.random.binomial(7, 0.7, 20000)==0)/20000)\n",
    "print(\"The probability that a food truck will show up sometime this week is\", likely)"
   ]
  },
  {
   "cell_type": "markdown",
   "metadata": {},
   "source": [
    "## 8. If 23 people are in the same room, what are the odds that two of them share a birthday? "
   ]
  },
  {
   "cell_type": "code",
   "execution_count": 47,
   "metadata": {},
   "outputs": [
    {
     "data": {
      "text/plain": [
       "0.4974"
      ]
     },
     "execution_count": 47,
     "metadata": {},
     "output_type": "execute_result"
    }
   ],
   "source": [
    "birthday = np.random.randint(1, 366, (10_000, 23))\n",
    "birthday=(pd.DataFrame(birthday).nunique(axis=1) < 23).mean()"
   ]
  },
  {
   "cell_type": "markdown",
   "metadata": {},
   "source": [
    "### What if it's 20 people?"
   ]
  },
  {
   "cell_type": "code",
   "execution_count": 48,
   "metadata": {},
   "outputs": [
    {
     "data": {
      "text/plain": [
       "0.4176"
      ]
     },
     "execution_count": 48,
     "metadata": {},
     "output_type": "execute_result"
    }
   ],
   "source": [
    "birthday = np.random.randint(1, 366, (10_000, 20))\n",
    "(pd.DataFrame(birthday).nunique(axis=1) < 20).mean()"
   ]
  },
  {
   "cell_type": "markdown",
   "metadata": {},
   "source": [
    "### 40?"
   ]
  },
  {
   "cell_type": "code",
   "execution_count": 49,
   "metadata": {},
   "outputs": [
    {
     "data": {
      "text/plain": [
       "0.8875"
      ]
     },
     "execution_count": 49,
     "metadata": {},
     "output_type": "execute_result"
    }
   ],
   "source": [
    "birthday = np.random.randint(1, 366, (10_000, 40))\n",
    "(pd.DataFrame(birthday).nunique(axis=1) < 40).mean()"
   ]
  },
  {
   "cell_type": "code",
   "execution_count": null,
   "metadata": {},
   "outputs": [],
   "source": []
  }
 ],
 "metadata": {
  "kernelspec": {
   "display_name": "Python 3",
   "language": "python",
   "name": "python3"
  },
  "language_info": {
   "codemirror_mode": {
    "name": "ipython",
    "version": 3
   },
   "file_extension": ".py",
   "mimetype": "text/x-python",
   "name": "python",
   "nbconvert_exporter": "python",
   "pygments_lexer": "ipython3",
   "version": "3.7.6"
  }
 },
 "nbformat": 4,
 "nbformat_minor": 4
}
