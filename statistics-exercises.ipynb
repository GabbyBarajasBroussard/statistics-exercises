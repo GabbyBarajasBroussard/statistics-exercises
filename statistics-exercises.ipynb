{
 "cells": [
  {
   "cell_type": "code",
   "execution_count": 11,
   "metadata": {},
   "outputs": [],
   "source": [
    "%matplotlib inline\n",
    "import numpy as np\n",
    "import pandas as pd\n",
    "\n",
    "\n",
    "\n",
    "np.random.seed(123)"
   ]
  },
  {
   "cell_type": "markdown",
   "metadata": {},
   "source": [
    "## 1. How likely is it that you roll doubles when rolling two dice?"
   ]
  },
  {
   "cell_type": "code",
   "execution_count": 12,
   "metadata": {},
   "outputs": [
    {
     "name": "stdout",
     "output_type": "stream",
     "text": [
      "The probability of rolling doubles when you roll two die is 0.16497\n"
     ]
    }
   ],
   "source": [
    "# the number of times to run the same simulation.\n",
    "number_of_simulations = nrows = 10**5\n",
    "#how many dice rolls in each simulation\n",
    "number_of_dice_rolled = ncols = 2\n",
    "\n",
    "#each side of a dice\n",
    "choice = [1,2,3,4,5,6]\n",
    "#picks random options from the 'dice' amoun of times specified, \n",
    "#reshapes the output in rows and columns based on our amount of simulations and rolls per trial\n",
    "rolls = np.random.choice(choice, nrows * ncols).reshape(nrows, ncols)\n",
    "\n",
    "#convertsthe rolls to dataframe\n",
    "rolls_df = pd.DataFrame(rolls)\n",
    "\n",
    "#applies a function to check if the two dice rolls match, and takes the average of times this occurs\n",
    "prob = rolls_df.apply(lambda row: row[0] == row[1], axis=1).mean()\n",
    "print(\"The probability of rolling doubles when you roll two die is\", prob)"
   ]
  },
  {
   "cell_type": "markdown",
   "metadata": {},
   "source": [
    "## 2. If you flip 8 coins, what is the probability of getting exactly 3 heads? What is the probability of getting more than 3 heads?"
   ]
  },
  {
   "cell_type": "code",
   "execution_count": 17,
   "metadata": {},
   "outputs": [
    {
     "name": "stdout",
     "output_type": "stream",
     "text": [
      "The probability of rolling exactly 3 heads is 0.221\n"
     ]
    }
   ],
   "source": [
    "number_trials = nrows = 10000\n",
    "number_coins = ncols = 8\n",
    "\n",
    "flips = np.random.choice([1, 0], nrows * ncols).reshape(nrows, ncols)\n",
    "#now add the row total\n",
    "trial = flips.sum(axis=1)\n",
    "# then get the average of those where the sum is 3\n",
    "three_heads=(trial==3).mean()\n",
    "print(\"The probability of rolling exactly 3 heads is\", three_heads)"
   ]
  },
  {
   "cell_type": "code",
   "execution_count": 18,
   "metadata": {},
   "outputs": [
    {
     "name": "stdout",
     "output_type": "stream",
     "text": [
      "The probability of rolling more than 3 heads is 0.6305\n"
     ]
    }
   ],
   "source": [
    "greater_than_three=(trial> 3).mean()\n",
    "print(\"The probability of rolling more than 3 heads is\", greater_than_three)"
   ]
  },
  {
   "cell_type": "markdown",
   "metadata": {},
   "source": [
    "## 3. There are approximitely 3 web development cohorts for every 1 data science cohort at Codeup. Assuming that Codeup randomly selects an alumni to put on a billboard, what are the odds that the two billboards I drive past both have data science students on them?"
   ]
  },
  {
   "cell_type": "code",
   "execution_count": 21,
   "metadata": {},
   "outputs": [
    {
     "name": "stdout",
     "output_type": "stream",
     "text": [
      "The probability of driving by two Codeup Data Science Students is 0.06466849000000001\n"
     ]
    }
   ],
   "source": [
    "prob= [.75, .25]\n",
    "billboard = np.random.choice([\"WD\", \"DS\"], size=10000, p=prob)\n",
    "data = (billboard == \"DS\").mean()\n",
    "total_ds=data**2\n",
    "print(\"The probability of driving by two Codeup Data Science Students is\", total_ds)"
   ]
  },
  {
   "cell_type": "code",
   "execution_count": null,
   "metadata": {},
   "outputs": [],
   "source": []
  }
 ],
 "metadata": {
  "kernelspec": {
   "display_name": "Python 3",
   "language": "python",
   "name": "python3"
  },
  "language_info": {
   "codemirror_mode": {
    "name": "ipython",
    "version": 3
   },
   "file_extension": ".py",
   "mimetype": "text/x-python",
   "name": "python",
   "nbconvert_exporter": "python",
   "pygments_lexer": "ipython3",
   "version": "3.7.6"
  }
 },
 "nbformat": 4,
 "nbformat_minor": 4
}
